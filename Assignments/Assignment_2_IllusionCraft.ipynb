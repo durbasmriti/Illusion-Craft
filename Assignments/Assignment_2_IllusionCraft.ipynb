{
  "cells": [
    {
      "cell_type": "markdown",
      "id": "6224e0f0-4dd5-4ede-af51-c17d99abb39d",
      "metadata": {
        "id": "6224e0f0-4dd5-4ede-af51-c17d99abb39d"
      },
      "source": [
        "# Programming Assingnment : 2, IllusionCraft"
      ]
    },
    {
      "cell_type": "markdown",
      "id": "11733075-26dd-4b0b-a620-b56af4501fce",
      "metadata": {
        "id": "11733075-26dd-4b0b-a620-b56af4501fce"
      },
      "source": [
        "## General instructions for this assignment :&nbsp;&nbsp;&nbsp;&nbsp;&nbsp;&nbsp;&nbsp;&nbsp;&nbsp;&nbsp;&nbsp;&nbsp;&nbsp;&nbsp;&nbsp;&nbsp;&nbsp;&nbsp;&nbsp;&nbsp;&nbsp;&nbsp;&nbsp;&nbsp;Time of Struggle : 3 Days\n",
        "\n",
        "1) DO NOT change the template of the below sections.<br>\n",
        "2) plagiarism will be dealt with severity.To that end, the ratification **may also be disregarded in case of a regular mentee if guilty of plagiarism**<br>\n",
        "3) For the last section, Implement a seperate Machine Learning pipleline below the section without making **any changes anywhere.**<br>\n",
        "4) The total points of this assignment is imperative of the evaluator.\n",
        "\n",
        "## Instructions for obtaining the dataset\n",
        "1) Find the folder containing the image data sent in the IllusionCrat Whatsapp Group"
      ]
    },
    {
      "cell_type": "markdown",
      "id": "69a9a0a9-da2d-4fbe-8e00-06b00cd78286",
      "metadata": {
        "id": "69a9a0a9-da2d-4fbe-8e00-06b00cd78286"
      },
      "source": [
        "## Import all the required Packages\n",
        "go ahead run the below cells to import all the necessary packages."
      ]
    },
    {
      "cell_type": "code",
      "execution_count": 16,
      "id": "a3ec8df0-f025-41c4-9ca5-f31c165239bd",
      "metadata": {
        "id": "a3ec8df0-f025-41c4-9ca5-f31c165239bd"
      },
      "outputs": [],
      "source": [
        "import os\n",
        "import cv2  # For reading images\n",
        "import numpy as np\n",
        "import pandas as pd\n",
        "from sklearn.utils import shuffle\n",
        "\n",
        "from keras.models import Sequential\n",
        "from keras.layers import Conv2D, MaxPool2D, Flatten, Dense\n",
        "\n",
        "import numpy as np\n",
        "from tensorflow.keras.models import Sequential\n",
        "from tensorflow.keras.layers import Conv2D, MaxPool2D, Flatten, Dense\n",
        "from tensorflow.keras.utils import to_categorical\n",
        "from tensorflow.keras.optimizers import Adam"
      ]
    },
    {
      "cell_type": "markdown",
      "id": "419a5621-a724-46f7-b141-cfb13c6766ec",
      "metadata": {
        "id": "419a5621-a724-46f7-b141-cfb13c6766ec"
      },
      "source": [
        "## Prepare the dataset !\n",
        "\n",
        "Below are given 2 functions\n",
        "> \"load_images_from_folders\" : returns the image arrays and their corresponding labels. You may use cv2.imread for creating an image object <br>\n",
        "> \"create_dataset\" : returns X_train, y_train, X_test, y_test\n",
        "\n",
        "Implement both the functions to curate the dataset for the upcoming training of the CNN model"
      ]
    },
    {
      "cell_type": "code",
      "execution_count": null,
      "id": "2b5e4340-4e10-43de-be02-d8227023c79d",
      "metadata": {
        "id": "2b5e4340-4e10-43de-be02-d8227023c79d"
      },
      "outputs": [],
      "source": [
        "def load_images_from_folder(folder, label, image_size):\n",
        "#############START CODE HERE#################\n",
        "\n",
        "    image_array = []\n",
        "    label_array = []\n",
        "\n",
        "    for file in os.listdir(os.path.join(folder)):\n",
        "        if file == '.DS_Store':\n",
        "            continue\n",
        "        img = cv2.imread(os.path.join(folder, file))\n",
        "        img = cv2.resize(img, (image_size, image_size))\n",
        "        image_array.append(img)\n",
        "        label_array.append(label)\n",
        "\n",
        "    return np.array(image_array), np.array(label_array)\n",
        "\n",
        "#############END CODE HERE###################\n",
        "\n",
        "def create_dataset(base_path, image_size=100):\n",
        "#############START CODE HERE#################\n",
        "\n",
        "    X_test = []\n",
        "    Y_test = []\n",
        "    X_train = []\n",
        "    Y_train = []\n",
        "\n",
        "    train_data_folder = os.path.join(base_path, 'Final Training Images')\n",
        "    test_data_folder = os.path.join(base_path, 'Final Testing Images')\n",
        "\n",
        "    for folder in os.listdir(train_data_folder):\n",
        "        if not os.path.isdir(os.path.join(train_data_folder, folder)):\n",
        "            continue\n",
        "        label = int(folder.split('face')[1])\n",
        "        image_array, label_array = load_images_from_folder(os.path.join(train_data_folder, folder), label, image_size)\n",
        "        X_train.extend(image_array)\n",
        "        Y_train.extend(label_array)\n",
        "\n",
        "    for folder in os.listdir(test_data_folder):\n",
        "        if not os.path.isdir(os.path.join(test_data_folder, folder)):\n",
        "            continue\n",
        "        label = int(folder.split('face')[1])\n",
        "        image_array, label_array = load_images_from_folder(os.path.join(test_data_folder, folder), label, image_size)\n",
        "        X_test.extend(image_array)\n",
        "        Y_test.extend(label_array)\n",
        "\n",
        "    return np.array(X_train), np.array(Y_train), np.array(X_test), np.array(Y_test)\n",
        "\n",
        "#############END CODE HERE###################\n",
        "\n",
        "\n",
        "# Example usage\n",
        "base_path = './Face Images'  # Replace with the actual path\n",
        "X_train, y_train, X_test, y_test = create_dataset(base_path, image_size=100)"
      ]
    },
    {
      "cell_type": "markdown",
      "id": "946f014b-081d-4060-9888-9e654b2aac47",
      "metadata": {
        "id": "946f014b-081d-4060-9888-9e654b2aac47"
      },
      "source": [
        "## Time for some action ! compile and train the CNN model\n",
        "\n",
        "<b>Instructions:<b>\n",
        "\n",
        "1) Below you will first define a model object with the following layer structure :\n",
        "   >Input layer<br>\n",
        "   >Conv2D, size=16<br>\n",
        "   >MaxPool2D, pool_size = (2,2)<br>\n",
        "   >Conv2D, size=32<br>\n",
        "   >MaxPool2D, pool_size = (2,2)<br>\n",
        "   >conv2D, size=64<br>\n",
        "   >Flatten()<br>\n",
        "   >Dense, size=64<br>\n",
        "   >Dense\n",
        "2) Use your preferred activation functions for different layers.\n",
        "3) Also print your model's training time and test_accuracy"
      ]
    },
    {
      "cell_type": "code",
      "execution_count": null,
      "id": "39eb58ef-cbb8-4546-826a-029ba3203626",
      "metadata": {
        "id": "39eb58ef-cbb8-4546-826a-029ba3203626"
      },
      "outputs": [
        {
          "data": {
            "text/html": [
              "<pre style=\"white-space:pre;overflow-x:auto;line-height:normal;font-family:Menlo,'DejaVu Sans Mono',consolas,'Courier New',monospace\"><span style=\"font-weight: bold\">Model: \"sequential_2\"</span>\n",
              "</pre>\n"
            ],
            "text/plain": [
              "\u001b[1mModel: \"sequential_2\"\u001b[0m\n"
            ]
          },
          "metadata": {},
          "output_type": "display_data"
        },
        {
          "data": {
            "text/html": [
              "<pre style=\"white-space:pre;overflow-x:auto;line-height:normal;font-family:Menlo,'DejaVu Sans Mono',consolas,'Courier New',monospace\">┏━━━━━━━━━━━━━━━━━━━━━━━━━━━━━━━━━┳━━━━━━━━━━━━━━━━━━━━━━━━┳━━━━━━━━━━━━━━━┓\n",
              "┃<span style=\"font-weight: bold\"> Layer (type)                    </span>┃<span style=\"font-weight: bold\"> Output Shape           </span>┃<span style=\"font-weight: bold\">       Param # </span>┃\n",
              "┡━━━━━━━━━━━━━━━━━━━━━━━━━━━━━━━━━╇━━━━━━━━━━━━━━━━━━━━━━━━╇━━━━━━━━━━━━━━━┩\n",
              "│ conv2d_6 (<span style=\"color: #0087ff; text-decoration-color: #0087ff\">Conv2D</span>)               │ (<span style=\"color: #00d7ff; text-decoration-color: #00d7ff\">None</span>, <span style=\"color: #00af00; text-decoration-color: #00af00\">98</span>, <span style=\"color: #00af00; text-decoration-color: #00af00\">98</span>, <span style=\"color: #00af00; text-decoration-color: #00af00\">16</span>)     │           <span style=\"color: #00af00; text-decoration-color: #00af00\">448</span> │\n",
              "├─────────────────────────────────┼────────────────────────┼───────────────┤\n",
              "│ max_pooling2d_4 (<span style=\"color: #0087ff; text-decoration-color: #0087ff\">MaxPooling2D</span>)  │ (<span style=\"color: #00d7ff; text-decoration-color: #00d7ff\">None</span>, <span style=\"color: #00af00; text-decoration-color: #00af00\">49</span>, <span style=\"color: #00af00; text-decoration-color: #00af00\">49</span>, <span style=\"color: #00af00; text-decoration-color: #00af00\">16</span>)     │             <span style=\"color: #00af00; text-decoration-color: #00af00\">0</span> │\n",
              "├─────────────────────────────────┼────────────────────────┼───────────────┤\n",
              "│ conv2d_7 (<span style=\"color: #0087ff; text-decoration-color: #0087ff\">Conv2D</span>)               │ (<span style=\"color: #00d7ff; text-decoration-color: #00d7ff\">None</span>, <span style=\"color: #00af00; text-decoration-color: #00af00\">47</span>, <span style=\"color: #00af00; text-decoration-color: #00af00\">47</span>, <span style=\"color: #00af00; text-decoration-color: #00af00\">32</span>)     │         <span style=\"color: #00af00; text-decoration-color: #00af00\">4,640</span> │\n",
              "├─────────────────────────────────┼────────────────────────┼───────────────┤\n",
              "│ max_pooling2d_5 (<span style=\"color: #0087ff; text-decoration-color: #0087ff\">MaxPooling2D</span>)  │ (<span style=\"color: #00d7ff; text-decoration-color: #00d7ff\">None</span>, <span style=\"color: #00af00; text-decoration-color: #00af00\">23</span>, <span style=\"color: #00af00; text-decoration-color: #00af00\">23</span>, <span style=\"color: #00af00; text-decoration-color: #00af00\">32</span>)     │             <span style=\"color: #00af00; text-decoration-color: #00af00\">0</span> │\n",
              "├─────────────────────────────────┼────────────────────────┼───────────────┤\n",
              "│ conv2d_8 (<span style=\"color: #0087ff; text-decoration-color: #0087ff\">Conv2D</span>)               │ (<span style=\"color: #00d7ff; text-decoration-color: #00d7ff\">None</span>, <span style=\"color: #00af00; text-decoration-color: #00af00\">21</span>, <span style=\"color: #00af00; text-decoration-color: #00af00\">21</span>, <span style=\"color: #00af00; text-decoration-color: #00af00\">64</span>)     │        <span style=\"color: #00af00; text-decoration-color: #00af00\">18,496</span> │\n",
              "├─────────────────────────────────┼────────────────────────┼───────────────┤\n",
              "│ flatten_2 (<span style=\"color: #0087ff; text-decoration-color: #0087ff\">Flatten</span>)             │ (<span style=\"color: #00d7ff; text-decoration-color: #00d7ff\">None</span>, <span style=\"color: #00af00; text-decoration-color: #00af00\">28224</span>)          │             <span style=\"color: #00af00; text-decoration-color: #00af00\">0</span> │\n",
              "├─────────────────────────────────┼────────────────────────┼───────────────┤\n",
              "│ dense_4 (<span style=\"color: #0087ff; text-decoration-color: #0087ff\">Dense</span>)                 │ (<span style=\"color: #00d7ff; text-decoration-color: #00d7ff\">None</span>, <span style=\"color: #00af00; text-decoration-color: #00af00\">64</span>)             │     <span style=\"color: #00af00; text-decoration-color: #00af00\">1,806,400</span> │\n",
              "├─────────────────────────────────┼────────────────────────┼───────────────┤\n",
              "│ dense_5 (<span style=\"color: #0087ff; text-decoration-color: #0087ff\">Dense</span>)                 │ (<span style=\"color: #00d7ff; text-decoration-color: #00d7ff\">None</span>, <span style=\"color: #00af00; text-decoration-color: #00af00\">17</span>)             │         <span style=\"color: #00af00; text-decoration-color: #00af00\">1,105</span> │\n",
              "└─────────────────────────────────┴────────────────────────┴───────────────┘\n",
              "</pre>\n"
            ],
            "text/plain": [
              "┏━━━━━━━━━━━━━━━━━━━━━━━━━━━━━━━━━┳━━━━━━━━━━━━━━━━━━━━━━━━┳━━━━━━━━━━━━━━━┓\n",
              "┃\u001b[1m \u001b[0m\u001b[1mLayer (type)                   \u001b[0m\u001b[1m \u001b[0m┃\u001b[1m \u001b[0m\u001b[1mOutput Shape          \u001b[0m\u001b[1m \u001b[0m┃\u001b[1m \u001b[0m\u001b[1m      Param #\u001b[0m\u001b[1m \u001b[0m┃\n",
              "┡━━━━━━━━━━━━━━━━━━━━━━━━━━━━━━━━━╇━━━━━━━━━━━━━━━━━━━━━━━━╇━━━━━━━━━━━━━━━┩\n",
              "│ conv2d_6 (\u001b[38;5;33mConv2D\u001b[0m)               │ (\u001b[38;5;45mNone\u001b[0m, \u001b[38;5;34m98\u001b[0m, \u001b[38;5;34m98\u001b[0m, \u001b[38;5;34m16\u001b[0m)     │           \u001b[38;5;34m448\u001b[0m │\n",
              "├─────────────────────────────────┼────────────────────────┼───────────────┤\n",
              "│ max_pooling2d_4 (\u001b[38;5;33mMaxPooling2D\u001b[0m)  │ (\u001b[38;5;45mNone\u001b[0m, \u001b[38;5;34m49\u001b[0m, \u001b[38;5;34m49\u001b[0m, \u001b[38;5;34m16\u001b[0m)     │             \u001b[38;5;34m0\u001b[0m │\n",
              "├─────────────────────────────────┼────────────────────────┼───────────────┤\n",
              "│ conv2d_7 (\u001b[38;5;33mConv2D\u001b[0m)               │ (\u001b[38;5;45mNone\u001b[0m, \u001b[38;5;34m47\u001b[0m, \u001b[38;5;34m47\u001b[0m, \u001b[38;5;34m32\u001b[0m)     │         \u001b[38;5;34m4,640\u001b[0m │\n",
              "├─────────────────────────────────┼────────────────────────┼───────────────┤\n",
              "│ max_pooling2d_5 (\u001b[38;5;33mMaxPooling2D\u001b[0m)  │ (\u001b[38;5;45mNone\u001b[0m, \u001b[38;5;34m23\u001b[0m, \u001b[38;5;34m23\u001b[0m, \u001b[38;5;34m32\u001b[0m)     │             \u001b[38;5;34m0\u001b[0m │\n",
              "├─────────────────────────────────┼────────────────────────┼───────────────┤\n",
              "│ conv2d_8 (\u001b[38;5;33mConv2D\u001b[0m)               │ (\u001b[38;5;45mNone\u001b[0m, \u001b[38;5;34m21\u001b[0m, \u001b[38;5;34m21\u001b[0m, \u001b[38;5;34m64\u001b[0m)     │        \u001b[38;5;34m18,496\u001b[0m │\n",
              "├─────────────────────────────────┼────────────────────────┼───────────────┤\n",
              "│ flatten_2 (\u001b[38;5;33mFlatten\u001b[0m)             │ (\u001b[38;5;45mNone\u001b[0m, \u001b[38;5;34m28224\u001b[0m)          │             \u001b[38;5;34m0\u001b[0m │\n",
              "├─────────────────────────────────┼────────────────────────┼───────────────┤\n",
              "│ dense_4 (\u001b[38;5;33mDense\u001b[0m)                 │ (\u001b[38;5;45mNone\u001b[0m, \u001b[38;5;34m64\u001b[0m)             │     \u001b[38;5;34m1,806,400\u001b[0m │\n",
              "├─────────────────────────────────┼────────────────────────┼───────────────┤\n",
              "│ dense_5 (\u001b[38;5;33mDense\u001b[0m)                 │ (\u001b[38;5;45mNone\u001b[0m, \u001b[38;5;34m17\u001b[0m)             │         \u001b[38;5;34m1,105\u001b[0m │\n",
              "└─────────────────────────────────┴────────────────────────┴───────────────┘\n"
            ]
          },
          "metadata": {},
          "output_type": "display_data"
        },
        {
          "data": {
            "text/html": [
              "<pre style=\"white-space:pre;overflow-x:auto;line-height:normal;font-family:Menlo,'DejaVu Sans Mono',consolas,'Courier New',monospace\"><span style=\"font-weight: bold\"> Total params: </span><span style=\"color: #00af00; text-decoration-color: #00af00\">1,831,089</span> (6.99 MB)\n",
              "</pre>\n"
            ],
            "text/plain": [
              "\u001b[1m Total params: \u001b[0m\u001b[38;5;34m1,831,089\u001b[0m (6.99 MB)\n"
            ]
          },
          "metadata": {},
          "output_type": "display_data"
        },
        {
          "data": {
            "text/html": [
              "<pre style=\"white-space:pre;overflow-x:auto;line-height:normal;font-family:Menlo,'DejaVu Sans Mono',consolas,'Courier New',monospace\"><span style=\"font-weight: bold\"> Trainable params: </span><span style=\"color: #00af00; text-decoration-color: #00af00\">1,831,089</span> (6.99 MB)\n",
              "</pre>\n"
            ],
            "text/plain": [
              "\u001b[1m Trainable params: \u001b[0m\u001b[38;5;34m1,831,089\u001b[0m (6.99 MB)\n"
            ]
          },
          "metadata": {},
          "output_type": "display_data"
        },
        {
          "data": {
            "text/html": [
              "<pre style=\"white-space:pre;overflow-x:auto;line-height:normal;font-family:Menlo,'DejaVu Sans Mono',consolas,'Courier New',monospace\"><span style=\"font-weight: bold\"> Non-trainable params: </span><span style=\"color: #00af00; text-decoration-color: #00af00\">0</span> (0.00 B)\n",
              "</pre>\n"
            ],
            "text/plain": [
              "\u001b[1m Non-trainable params: \u001b[0m\u001b[38;5;34m0\u001b[0m (0.00 B)\n"
            ]
          },
          "metadata": {},
          "output_type": "display_data"
        },
        {
          "name": "stdout",
          "output_type": "stream",
          "text": [
            "Epoch 1/10\n",
            "\u001b[1m8/8\u001b[0m \u001b[32m━━━━━━━━━━━━━━━━━━━━\u001b[0m\u001b[37m\u001b[0m \u001b[1m2s\u001b[0m 36ms/step - accuracy: 0.0591 - loss: 145.1621\n",
            "Epoch 2/10\n",
            "\u001b[1m8/8\u001b[0m \u001b[32m━━━━━━━━━━━━━━━━━━━━\u001b[0m\u001b[37m\u001b[0m \u001b[1m0s\u001b[0m 40ms/step - accuracy: 0.2414 - loss: 3.9988\n",
            "Epoch 3/10\n",
            "\u001b[1m8/8\u001b[0m \u001b[32m━━━━━━━━━━━━━━━━━━━━\u001b[0m\u001b[37m\u001b[0m \u001b[1m0s\u001b[0m 29ms/step - accuracy: 0.7927 - loss: 0.7786\n",
            "Epoch 4/10\n",
            "\u001b[1m8/8\u001b[0m \u001b[32m━━━━━━━━━━━━━━━━━━━━\u001b[0m\u001b[37m\u001b[0m \u001b[1m0s\u001b[0m 23ms/step - accuracy: 0.9700 - loss: 0.1434\n",
            "Epoch 5/10\n",
            "\u001b[1m8/8\u001b[0m \u001b[32m━━━━━━━━━━━━━━━━━━━━\u001b[0m\u001b[37m\u001b[0m \u001b[1m0s\u001b[0m 21ms/step - accuracy: 1.0000 - loss: 0.0472\n",
            "Epoch 6/10\n",
            "\u001b[1m8/8\u001b[0m \u001b[32m━━━━━━━━━━━━━━━━━━━━\u001b[0m\u001b[37m\u001b[0m \u001b[1m0s\u001b[0m 21ms/step - accuracy: 1.0000 - loss: 0.0076\n",
            "Epoch 7/10\n",
            "\u001b[1m8/8\u001b[0m \u001b[32m━━━━━━━━━━━━━━━━━━━━\u001b[0m\u001b[37m\u001b[0m \u001b[1m0s\u001b[0m 23ms/step - accuracy: 1.0000 - loss: 0.0018   \n",
            "Epoch 8/10\n",
            "\u001b[1m8/8\u001b[0m \u001b[32m━━━━━━━━━━━━━━━━━━━━\u001b[0m\u001b[37m\u001b[0m \u001b[1m0s\u001b[0m 22ms/step - accuracy: 1.0000 - loss: 0.0019\n",
            "Epoch 9/10\n",
            "\u001b[1m8/8\u001b[0m \u001b[32m━━━━━━━━━━━━━━━━━━━━\u001b[0m\u001b[37m\u001b[0m \u001b[1m0s\u001b[0m 21ms/step - accuracy: 1.0000 - loss: 3.6689e-04\n",
            "Epoch 10/10\n",
            "\u001b[1m8/8\u001b[0m \u001b[32m━━━━━━━━━━━━━━━━━━━━\u001b[0m\u001b[37m\u001b[0m \u001b[1m0s\u001b[0m 21ms/step - accuracy: 1.0000 - loss: 1.8083e-04\n",
            "\u001b[1m2/2\u001b[0m \u001b[32m━━━━━━━━━━━━━━━━━━━━\u001b[0m\u001b[37m\u001b[0m \u001b[1m0s\u001b[0m 15ms/step - accuracy: 0.9688 - loss: 0.0542 \n",
            "Test accuracy: 0.9688\n",
            "Total Training Time taken:  0 Minutes\n"
          ]
        }
      ],
      "source": [
        "# Define the model\n",
        "#############START CODE HERE#################\n",
        "\n",
        "model = Sequential()\n",
        "model.add(Conv2D(16, (3, 3), activation='relu', input_shape=(100, 100, 3)))\n",
        "model.add(MaxPool2D((2, 2)))\n",
        "model.add(Conv2D(32, (3, 3), activation='relu'))\n",
        "model.add(MaxPool2D((2, 2)))\n",
        "model.add(Conv2D(64, (3, 3), activation='relu'))\n",
        "model.add(Flatten())\n",
        "model.add(Dense(64, activation='relu'))\n",
        "model.add(Dense(len(np.unique(y_train))+1, activation='softmax'))\n",
        "\n",
        "#############END CODE HERE###################\n",
        "\n",
        "\n",
        "# Compile the model\n",
        "#############START CODE HERE#################\n",
        "from tensorflow.keras.losses import SparseCategoricalCrossentropy\n",
        "model.compile( optimizer='adam', loss=SparseCategoricalCrossentropy(from_logits=True), metrics=['accuracy'])\n",
        "#############END CODE HERE###################\n",
        "\n",
        "\n",
        "# Print the model summary\n",
        "#############START CODE HERE#################\n",
        "model.summary()\n",
        "#############END CODE HERE###################\n",
        "\n",
        "# Train the model\n",
        "#############START CODE HERE#################\n",
        "import time\n",
        "StartTime = time.time()\n",
        "model.fit(X_train, y_train, epochs=10)\n",
        "Endtime = time.time()\n",
        "#############END CODE HERE###################\n",
        "\n",
        "\n",
        "# Evaluate the model on test data\n",
        "test_loss, test_acc = model.evaluate(X_test, y_test)\n",
        "print(f'Test accuracy: {test_acc:.4f}')\n",
        "\n",
        "print('Total Training Time taken: ',round((Endtime-StartTime)/60),'Minutes')"
      ]
    },
    {
      "cell_type": "code",
      "execution_count": null,
      "id": "7d791d45-9276-4091-bd58-8c749a294991",
      "metadata": {
        "id": "7d791d45-9276-4091-bd58-8c749a294991"
      },
      "outputs": [],
      "source": []
    }
  ],
  "metadata": {
    "colab": {
      "provenance": []
    },
    "kernelspec": {
      "display_name": "Python 3 (ipykernel)",
      "language": "python",
      "name": "python3"
    },
    "language_info": {
      "codemirror_mode": {
        "name": "ipython",
        "version": 3
      },
      "file_extension": ".py",
      "mimetype": "text/x-python",
      "name": "python",
      "nbconvert_exporter": "python",
      "pygments_lexer": "ipython3",
      "version": "3.12.3"
    }
  },
  "nbformat": 4,
  "nbformat_minor": 5
}
